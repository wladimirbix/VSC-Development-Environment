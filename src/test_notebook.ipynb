{
 "cells": [
  {
   "cell_type": "code",
   "execution_count": null,
   "metadata": {},
   "outputs": [],
   "source": [
    "display(spark.read.table(\"advancinglake.dbt_cloud.jaffle_shop_customers\"))"
   ]
  },
  {
   "cell_type": "code",
   "execution_count": null,
   "metadata": {},
   "outputs": [],
   "source": [
    "%sql\n",
    "SELECT game_id, frame_id, pos, key, value:object::string, value:x1_position::int, value:x2_position, value\n",
    "from\n",
    "  advancinglake.hackathon.silver_foosball_events as tracking_data, LATERAL variant_explode(tracking_data.tracking)\n",
    "  WHERE game_id = 'GX011282' AND\n",
    "--  frame_id = 0 AND\n",
    "  value:object::string = 'Player2' AND\n",
    "  value:x1_position::int >= 900\n",
    "order by\n",
    "  frame_id, pos, value:object::string asc"
   ]
  }
 ],
 "metadata": {
  "kernelspec": {
   "display_name": "default_python_venv",
   "language": "python",
   "name": "python3"
  },
  "language_info": {
   "codemirror_mode": {
    "name": "ipython",
    "version": 3
   },
   "file_extension": ".py",
   "mimetype": "text/x-python",
   "name": "python",
   "nbconvert_exporter": "python",
   "pygments_lexer": "ipython3",
   "version": "3.13.3"
  }
 },
 "nbformat": 4,
 "nbformat_minor": 2
}
