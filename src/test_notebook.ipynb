{
 "cells": [
  {
   "cell_type": "code",
   "execution_count": 0,
   "metadata": {
    "application/vnd.databricks.v1+cell": {
     "cellMetadata": {
      "byteLimit": 2048000,
      "rowLimit": 10000
     },
     "inputWidgets": {},
     "nuid": "0101e26b-5eea-432e-855d-05ba905931f0",
     "showTitle": false,
     "tableResultSettingsMap": {},
     "title": ""
    }
   },
   "outputs": [],
   "source": [
    "display(spark.read.table(\"advancinglake.dbt_cloud.jaffle_shop_customers\"))"
   ]
  },
  {
   "cell_type": "code",
   "execution_count": 0,
   "metadata": {
    "application/vnd.databricks.v1+cell": {
     "cellMetadata": {},
     "inputWidgets": {},
     "nuid": "a50d6e0c-9dc4-4d0e-a886-a9fecd5ab802",
     "showTitle": false,
     "tableResultSettingsMap": {},
     "title": ""
    }
   },
   "outputs": [],
   "source": [
    "%sql\n",
    "SELECT game_id, frame_id, pos, key, value:object::string, value:x1_position::int, value:x2_position, value\n",
    "from\n",
    "  advancinglake.hackathon.silver_foosball_events as tracking_data, LATERAL variant_explode(tracking_data.tracking)\n",
    "  WHERE game_id = 'GX011282' AND\n",
    "--  frame_id = 0 AND\n",
    "  value:object::string = 'Player2' AND\n",
    "  value:x1_position::int >= 900\n",
    "order by\n",
    "  frame_id, pos, value:object::string asc"
   ]
  }
 ],
 "metadata": {
  "application/vnd.databricks.v1+notebook": {
   "computePreferences": null,
   "dashboards": [],
   "environmentMetadata": null,
   "inputWidgetPreferences": null,
   "language": "python",
   "notebookMetadata": {
    "pythonIndentUnit": 2
   },
   "notebookName": "test_notebook",
   "widgets": {}
  },
  "kernelspec": {
   "display_name": "default_python_venv",
   "language": "python",
   "name": "python3"
  },
  "language_info": {
   "name": "python"
  }
 },
 "nbformat": 4,
 "nbformat_minor": 0
}
